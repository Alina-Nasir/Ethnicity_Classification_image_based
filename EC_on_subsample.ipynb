{
  "cells": [
    {
      "cell_type": "markdown",
      "metadata": {
        "id": "cF-pnQy2YMQT"
      },
      "source": [
        "# Perform Ethnicity Classification by Images"
      ]
    },
    {
      "cell_type": "markdown",
      "metadata": {
        "id": "XqO8PIA4YlFm"
      },
      "source": [
        "# Dataset\n",
        "The given dataset is a large-scale face dataset with long age span (range from 0 to 116 years old). The dataset consists of over 20,000 face images with annotations of age, gender, and ethnicity. We will be using only 7000 of the 20,000 images. The dataset in this assignment is going to be used on the following task:\n",
        "\n",
        "## Given the pixels of an image, perform ethnicity classification for the image using a fully connected neural network.\n",
        "\n",
        "\n",
        "The dataset for this lab is already cleaned and provided in a CSV format for you with images included as pixel values.\n",
        "\n",
        "The 4 columns contain the following information:\n",
        "\n",
        "\n",
        "* **[age]** is an integer from 0 to 116, indicating the age. You can convert it to float for regression predictions\n",
        "* **[gender]** is either 0 (male) or 1 (female)\n",
        "* **[race]** is an integer from 0 to 4, denoting White, Black, Asian, Indian, and Others (like Hispanic, Latino, Middle Eastern).\n",
        "*  The 4th column contains the pixels of the images flattened to a single dimension. Each of the original image is of size 48x48 and the flattened image vector consists of 48x48 = 2304 pixel values."
      ]
    },
    {
      "cell_type": "code",
      "execution_count": 2,
      "metadata": {
        "colab": {
          "base_uri": "https://localhost:8080/"
        },
        "id": "-L_pcQJGYHCd",
        "outputId": "ec125f9e-180d-4c2f-b1f1-1cb4fa94e8b9"
      },
      "outputs": [
        {
          "name": "stdout",
          "output_type": "stream",
          "text": [
            "Downloading...\n",
            "From: https://drive.google.com/uc?id=1_KRWsOhQNf6BZcdu4pg2JVy-lHo7_Cno\n",
            "To: /content/DL_assignment1_dataset.csv\n",
            "100% 199M/199M [00:00<00:00, 223MB/s]\n"
          ]
        }
      ],
      "source": [
        "!gdown https://drive.google.com/file/d/1_KRWsOhQNf6BZcdu4pg2JVy-lHo7_Cno/view?usp=sharing --fuzzy"
      ]
    },
    {
      "cell_type": "code",
      "execution_count": 3,
      "metadata": {
        "id": "ZbV2cYFoW6es"
      },
      "outputs": [],
      "source": [
        "import pandas\n",
        "import torch\n",
        "import numpy as np\n",
        "import matplotlib.pyplot as plt"
      ]
    },
    {
      "cell_type": "code",
      "execution_count": 4,
      "metadata": {
        "colab": {
          "base_uri": "https://localhost:8080/"
        },
        "id": "c2hKO7UIWlpe",
        "outputId": "5f324b48-3328-4cd4-b98c-e35b4bb86064"
      },
      "outputs": [
        {
          "name": "stdout",
          "output_type": "stream",
          "text": [
            "<== CUDA availability : ==> True\n"
          ]
        }
      ],
      "source": [
        "use_cuda = torch.cuda.is_available()\n",
        "device = torch.device(\"cuda\" if use_cuda else \"cpu\")\n",
        "print ('<== CUDA availability : ==>', use_cuda)"
      ]
    },
    {
      "cell_type": "code",
      "execution_count": 5,
      "metadata": {
        "colab": {
          "base_uri": "https://localhost:8080/",
          "height": 423
        },
        "id": "mhIMgnKIXDim",
        "outputId": "4440e72e-ee07-4e5f-979d-9ad1c649925a"
      },
      "outputs": [
        {
          "data": {
            "text/html": [
              "\n",
              "  <div id=\"df-0b86490c-a09b-4788-a9cb-bc15bb6a3618\" class=\"colab-df-container\">\n",
              "    <div>\n",
              "<style scoped>\n",
              "    .dataframe tbody tr th:only-of-type {\n",
              "        vertical-align: middle;\n",
              "    }\n",
              "\n",
              "    .dataframe tbody tr th {\n",
              "        vertical-align: top;\n",
              "    }\n",
              "\n",
              "    .dataframe thead th {\n",
              "        text-align: right;\n",
              "    }\n",
              "</style>\n",
              "<table border=\"1\" class=\"dataframe\">\n",
              "  <thead>\n",
              "    <tr style=\"text-align: right;\">\n",
              "      <th></th>\n",
              "      <th>age</th>\n",
              "      <th>ethnicity</th>\n",
              "      <th>gender</th>\n",
              "      <th>pixels</th>\n",
              "    </tr>\n",
              "  </thead>\n",
              "  <tbody>\n",
              "    <tr>\n",
              "      <th>0</th>\n",
              "      <td>1</td>\n",
              "      <td>2</td>\n",
              "      <td>0</td>\n",
              "      <td>129 128 128 126 127 130 133 135 139 142 145 14...</td>\n",
              "    </tr>\n",
              "    <tr>\n",
              "      <th>1</th>\n",
              "      <td>1</td>\n",
              "      <td>2</td>\n",
              "      <td>0</td>\n",
              "      <td>164 74 111 168 169 171 175 182 184 188 193 199...</td>\n",
              "    </tr>\n",
              "    <tr>\n",
              "      <th>2</th>\n",
              "      <td>1</td>\n",
              "      <td>2</td>\n",
              "      <td>0</td>\n",
              "      <td>67 70 71 70 69 67 70 79 90 103 116 132 145 155...</td>\n",
              "    </tr>\n",
              "    <tr>\n",
              "      <th>3</th>\n",
              "      <td>1</td>\n",
              "      <td>2</td>\n",
              "      <td>0</td>\n",
              "      <td>193 197 198 200 199 200 202 203 204 205 208 21...</td>\n",
              "    </tr>\n",
              "    <tr>\n",
              "      <th>4</th>\n",
              "      <td>1</td>\n",
              "      <td>2</td>\n",
              "      <td>0</td>\n",
              "      <td>202 205 209 210 209 209 210 211 212 214 218 21...</td>\n",
              "    </tr>\n",
              "    <tr>\n",
              "      <th>...</th>\n",
              "      <td>...</td>\n",
              "      <td>...</td>\n",
              "      <td>...</td>\n",
              "      <td>...</td>\n",
              "    </tr>\n",
              "    <tr>\n",
              "      <th>23700</th>\n",
              "      <td>99</td>\n",
              "      <td>0</td>\n",
              "      <td>1</td>\n",
              "      <td>127 100 94 81 77 77 74 99 102 98 128 145 160 1...</td>\n",
              "    </tr>\n",
              "    <tr>\n",
              "      <th>23701</th>\n",
              "      <td>99</td>\n",
              "      <td>1</td>\n",
              "      <td>1</td>\n",
              "      <td>23 28 32 35 42 47 68 85 98 103 113 117 130 129...</td>\n",
              "    </tr>\n",
              "    <tr>\n",
              "      <th>23702</th>\n",
              "      <td>99</td>\n",
              "      <td>2</td>\n",
              "      <td>1</td>\n",
              "      <td>59 50 37 40 34 19 30 101 156 170 177 184 187 1...</td>\n",
              "    </tr>\n",
              "    <tr>\n",
              "      <th>23703</th>\n",
              "      <td>99</td>\n",
              "      <td>2</td>\n",
              "      <td>1</td>\n",
              "      <td>45 108 120 156 206 197 140 180 191 199 204 207...</td>\n",
              "    </tr>\n",
              "    <tr>\n",
              "      <th>23704</th>\n",
              "      <td>99</td>\n",
              "      <td>0</td>\n",
              "      <td>1</td>\n",
              "      <td>156 161 160 165 170 173 166 177 183 191 187 18...</td>\n",
              "    </tr>\n",
              "  </tbody>\n",
              "</table>\n",
              "<p>23705 rows × 4 columns</p>\n",
              "</div>\n",
              "    <div class=\"colab-df-buttons\">\n",
              "\n",
              "  <div class=\"colab-df-container\">\n",
              "    <button class=\"colab-df-convert\" onclick=\"convertToInteractive('df-0b86490c-a09b-4788-a9cb-bc15bb6a3618')\"\n",
              "            title=\"Convert this dataframe to an interactive table.\"\n",
              "            style=\"display:none;\">\n",
              "\n",
              "  <svg xmlns=\"http://www.w3.org/2000/svg\" height=\"24px\" viewBox=\"0 -960 960 960\">\n",
              "    <path d=\"M120-120v-720h720v720H120Zm60-500h600v-160H180v160Zm220 220h160v-160H400v160Zm0 220h160v-160H400v160ZM180-400h160v-160H180v160Zm440 0h160v-160H620v160ZM180-180h160v-160H180v160Zm440 0h160v-160H620v160Z\"/>\n",
              "  </svg>\n",
              "    </button>\n",
              "\n",
              "  <style>\n",
              "    .colab-df-container {\n",
              "      display:flex;\n",
              "      gap: 12px;\n",
              "    }\n",
              "\n",
              "    .colab-df-convert {\n",
              "      background-color: #E8F0FE;\n",
              "      border: none;\n",
              "      border-radius: 50%;\n",
              "      cursor: pointer;\n",
              "      display: none;\n",
              "      fill: #1967D2;\n",
              "      height: 32px;\n",
              "      padding: 0 0 0 0;\n",
              "      width: 32px;\n",
              "    }\n",
              "\n",
              "    .colab-df-convert:hover {\n",
              "      background-color: #E2EBFA;\n",
              "      box-shadow: 0px 1px 2px rgba(60, 64, 67, 0.3), 0px 1px 3px 1px rgba(60, 64, 67, 0.15);\n",
              "      fill: #174EA6;\n",
              "    }\n",
              "\n",
              "    .colab-df-buttons div {\n",
              "      margin-bottom: 4px;\n",
              "    }\n",
              "\n",
              "    [theme=dark] .colab-df-convert {\n",
              "      background-color: #3B4455;\n",
              "      fill: #D2E3FC;\n",
              "    }\n",
              "\n",
              "    [theme=dark] .colab-df-convert:hover {\n",
              "      background-color: #434B5C;\n",
              "      box-shadow: 0px 1px 3px 1px rgba(0, 0, 0, 0.15);\n",
              "      filter: drop-shadow(0px 1px 2px rgba(0, 0, 0, 0.3));\n",
              "      fill: #FFFFFF;\n",
              "    }\n",
              "  </style>\n",
              "\n",
              "    <script>\n",
              "      const buttonEl =\n",
              "        document.querySelector('#df-0b86490c-a09b-4788-a9cb-bc15bb6a3618 button.colab-df-convert');\n",
              "      buttonEl.style.display =\n",
              "        google.colab.kernel.accessAllowed ? 'block' : 'none';\n",
              "\n",
              "      async function convertToInteractive(key) {\n",
              "        const element = document.querySelector('#df-0b86490c-a09b-4788-a9cb-bc15bb6a3618');\n",
              "        const dataTable =\n",
              "          await google.colab.kernel.invokeFunction('convertToInteractive',\n",
              "                                                    [key], {});\n",
              "        if (!dataTable) return;\n",
              "\n",
              "        const docLinkHtml = 'Like what you see? Visit the ' +\n",
              "          '<a target=\"_blank\" href=https://colab.research.google.com/notebooks/data_table.ipynb>data table notebook</a>'\n",
              "          + ' to learn more about interactive tables.';\n",
              "        element.innerHTML = '';\n",
              "        dataTable['output_type'] = 'display_data';\n",
              "        await google.colab.output.renderOutput(dataTable, element);\n",
              "        const docLink = document.createElement('div');\n",
              "        docLink.innerHTML = docLinkHtml;\n",
              "        element.appendChild(docLink);\n",
              "      }\n",
              "    </script>\n",
              "  </div>\n",
              "\n",
              "\n",
              "<div id=\"df-ebbaec14-ac6f-4bcc-92f3-037253232e95\">\n",
              "  <button class=\"colab-df-quickchart\" onclick=\"quickchart('df-ebbaec14-ac6f-4bcc-92f3-037253232e95')\"\n",
              "            title=\"Suggest charts.\"\n",
              "            style=\"display:none;\">\n",
              "\n",
              "<svg xmlns=\"http://www.w3.org/2000/svg\" height=\"24px\"viewBox=\"0 0 24 24\"\n",
              "     width=\"24px\">\n",
              "    <g>\n",
              "        <path d=\"M19 3H5c-1.1 0-2 .9-2 2v14c0 1.1.9 2 2 2h14c1.1 0 2-.9 2-2V5c0-1.1-.9-2-2-2zM9 17H7v-7h2v7zm4 0h-2V7h2v10zm4 0h-2v-4h2v4z\"/>\n",
              "    </g>\n",
              "</svg>\n",
              "  </button>\n",
              "\n",
              "<style>\n",
              "  .colab-df-quickchart {\n",
              "      --bg-color: #E8F0FE;\n",
              "      --fill-color: #1967D2;\n",
              "      --hover-bg-color: #E2EBFA;\n",
              "      --hover-fill-color: #174EA6;\n",
              "      --disabled-fill-color: #AAA;\n",
              "      --disabled-bg-color: #DDD;\n",
              "  }\n",
              "\n",
              "  [theme=dark] .colab-df-quickchart {\n",
              "      --bg-color: #3B4455;\n",
              "      --fill-color: #D2E3FC;\n",
              "      --hover-bg-color: #434B5C;\n",
              "      --hover-fill-color: #FFFFFF;\n",
              "      --disabled-bg-color: #3B4455;\n",
              "      --disabled-fill-color: #666;\n",
              "  }\n",
              "\n",
              "  .colab-df-quickchart {\n",
              "    background-color: var(--bg-color);\n",
              "    border: none;\n",
              "    border-radius: 50%;\n",
              "    cursor: pointer;\n",
              "    display: none;\n",
              "    fill: var(--fill-color);\n",
              "    height: 32px;\n",
              "    padding: 0;\n",
              "    width: 32px;\n",
              "  }\n",
              "\n",
              "  .colab-df-quickchart:hover {\n",
              "    background-color: var(--hover-bg-color);\n",
              "    box-shadow: 0 1px 2px rgba(60, 64, 67, 0.3), 0 1px 3px 1px rgba(60, 64, 67, 0.15);\n",
              "    fill: var(--button-hover-fill-color);\n",
              "  }\n",
              "\n",
              "  .colab-df-quickchart-complete:disabled,\n",
              "  .colab-df-quickchart-complete:disabled:hover {\n",
              "    background-color: var(--disabled-bg-color);\n",
              "    fill: var(--disabled-fill-color);\n",
              "    box-shadow: none;\n",
              "  }\n",
              "\n",
              "  .colab-df-spinner {\n",
              "    border: 2px solid var(--fill-color);\n",
              "    border-color: transparent;\n",
              "    border-bottom-color: var(--fill-color);\n",
              "    animation:\n",
              "      spin 1s steps(1) infinite;\n",
              "  }\n",
              "\n",
              "  @keyframes spin {\n",
              "    0% {\n",
              "      border-color: transparent;\n",
              "      border-bottom-color: var(--fill-color);\n",
              "      border-left-color: var(--fill-color);\n",
              "    }\n",
              "    20% {\n",
              "      border-color: transparent;\n",
              "      border-left-color: var(--fill-color);\n",
              "      border-top-color: var(--fill-color);\n",
              "    }\n",
              "    30% {\n",
              "      border-color: transparent;\n",
              "      border-left-color: var(--fill-color);\n",
              "      border-top-color: var(--fill-color);\n",
              "      border-right-color: var(--fill-color);\n",
              "    }\n",
              "    40% {\n",
              "      border-color: transparent;\n",
              "      border-right-color: var(--fill-color);\n",
              "      border-top-color: var(--fill-color);\n",
              "    }\n",
              "    60% {\n",
              "      border-color: transparent;\n",
              "      border-right-color: var(--fill-color);\n",
              "    }\n",
              "    80% {\n",
              "      border-color: transparent;\n",
              "      border-right-color: var(--fill-color);\n",
              "      border-bottom-color: var(--fill-color);\n",
              "    }\n",
              "    90% {\n",
              "      border-color: transparent;\n",
              "      border-bottom-color: var(--fill-color);\n",
              "    }\n",
              "  }\n",
              "</style>\n",
              "\n",
              "  <script>\n",
              "    async function quickchart(key) {\n",
              "      const quickchartButtonEl =\n",
              "        document.querySelector('#' + key + ' button');\n",
              "      quickchartButtonEl.disabled = true;  // To prevent multiple clicks.\n",
              "      quickchartButtonEl.classList.add('colab-df-spinner');\n",
              "      try {\n",
              "        const charts = await google.colab.kernel.invokeFunction(\n",
              "            'suggestCharts', [key], {});\n",
              "      } catch (error) {\n",
              "        console.error('Error during call to suggestCharts:', error);\n",
              "      }\n",
              "      quickchartButtonEl.classList.remove('colab-df-spinner');\n",
              "      quickchartButtonEl.classList.add('colab-df-quickchart-complete');\n",
              "    }\n",
              "    (() => {\n",
              "      let quickchartButtonEl =\n",
              "        document.querySelector('#df-ebbaec14-ac6f-4bcc-92f3-037253232e95 button');\n",
              "      quickchartButtonEl.style.display =\n",
              "        google.colab.kernel.accessAllowed ? 'block' : 'none';\n",
              "    })();\n",
              "  </script>\n",
              "</div>\n",
              "    </div>\n",
              "  </div>\n"
            ],
            "text/plain": [
              "       age  ethnicity  gender  \\\n",
              "0        1          2       0   \n",
              "1        1          2       0   \n",
              "2        1          2       0   \n",
              "3        1          2       0   \n",
              "4        1          2       0   \n",
              "...    ...        ...     ...   \n",
              "23700   99          0       1   \n",
              "23701   99          1       1   \n",
              "23702   99          2       1   \n",
              "23703   99          2       1   \n",
              "23704   99          0       1   \n",
              "\n",
              "                                                  pixels  \n",
              "0      129 128 128 126 127 130 133 135 139 142 145 14...  \n",
              "1      164 74 111 168 169 171 175 182 184 188 193 199...  \n",
              "2      67 70 71 70 69 67 70 79 90 103 116 132 145 155...  \n",
              "3      193 197 198 200 199 200 202 203 204 205 208 21...  \n",
              "4      202 205 209 210 209 209 210 211 212 214 218 21...  \n",
              "...                                                  ...  \n",
              "23700  127 100 94 81 77 77 74 99 102 98 128 145 160 1...  \n",
              "23701  23 28 32 35 42 47 68 85 98 103 113 117 130 129...  \n",
              "23702  59 50 37 40 34 19 30 101 156 170 177 184 187 1...  \n",
              "23703  45 108 120 156 206 197 140 180 191 199 204 207...  \n",
              "23704  156 161 160 165 170 173 166 177 183 191 187 18...  \n",
              "\n",
              "[23705 rows x 4 columns]"
            ]
          },
          "execution_count": 5,
          "metadata": {},
          "output_type": "execute_result"
        }
      ],
      "source": [
        "# Lets use pandas to load our data\n",
        "df = pandas.read_csv(\"/content/DL_assignment1_dataset.csv\")\n",
        "df"
      ]
    },
    {
      "cell_type": "markdown",
      "metadata": {
        "id": "2weDCP6jggYB"
      },
      "source": [
        "### For this assignment we will be using fully connected neural networks and hence to keep things simple we will only use 7000 of the ~20000 images for quick training times.\n",
        "\n",
        "### Please do not change the seed for the sampling of data points."
      ]
    },
    {
      "cell_type": "code",
      "execution_count": 6,
      "metadata": {
        "colab": {
          "base_uri": "https://localhost:8080/",
          "height": 423
        },
        "id": "xUBOnC85atjQ",
        "outputId": "669d9cf3-cc85-42d1-b9fb-740b1cf0231a"
      },
      "outputs": [
        {
          "data": {
            "text/html": [
              "\n",
              "  <div id=\"df-9bd09626-3632-434f-abf1-c36457e299b5\" class=\"colab-df-container\">\n",
              "    <div>\n",
              "<style scoped>\n",
              "    .dataframe tbody tr th:only-of-type {\n",
              "        vertical-align: middle;\n",
              "    }\n",
              "\n",
              "    .dataframe tbody tr th {\n",
              "        vertical-align: top;\n",
              "    }\n",
              "\n",
              "    .dataframe thead th {\n",
              "        text-align: right;\n",
              "    }\n",
              "</style>\n",
              "<table border=\"1\" class=\"dataframe\">\n",
              "  <thead>\n",
              "    <tr style=\"text-align: right;\">\n",
              "      <th></th>\n",
              "      <th>age</th>\n",
              "      <th>ethnicity</th>\n",
              "      <th>gender</th>\n",
              "      <th>pixels</th>\n",
              "    </tr>\n",
              "  </thead>\n",
              "  <tbody>\n",
              "    <tr>\n",
              "      <th>0</th>\n",
              "      <td>49</td>\n",
              "      <td>1</td>\n",
              "      <td>1</td>\n",
              "      <td>31 32 28 27 34 38 37 40 47 51 52 57 72 93 118 ...</td>\n",
              "    </tr>\n",
              "    <tr>\n",
              "      <th>1</th>\n",
              "      <td>39</td>\n",
              "      <td>1</td>\n",
              "      <td>0</td>\n",
              "      <td>186 65 38 40 36 51 64 64 60 55 58 60 73 79 82 ...</td>\n",
              "    </tr>\n",
              "    <tr>\n",
              "      <th>2</th>\n",
              "      <td>8</td>\n",
              "      <td>4</td>\n",
              "      <td>0</td>\n",
              "      <td>20 23 35 34 45 65 69 72 79 92 106 115 134 148 ...</td>\n",
              "    </tr>\n",
              "    <tr>\n",
              "      <th>3</th>\n",
              "      <td>40</td>\n",
              "      <td>4</td>\n",
              "      <td>0</td>\n",
              "      <td>6 6 13 19 15 23 41 76 106 125 133 138 152 158 ...</td>\n",
              "    </tr>\n",
              "    <tr>\n",
              "      <th>4</th>\n",
              "      <td>27</td>\n",
              "      <td>0</td>\n",
              "      <td>0</td>\n",
              "      <td>31 31 29 51 98 136 162 175 176 178 178 179 184...</td>\n",
              "    </tr>\n",
              "    <tr>\n",
              "      <th>...</th>\n",
              "      <td>...</td>\n",
              "      <td>...</td>\n",
              "      <td>...</td>\n",
              "      <td>...</td>\n",
              "    </tr>\n",
              "    <tr>\n",
              "      <th>6995</th>\n",
              "      <td>49</td>\n",
              "      <td>3</td>\n",
              "      <td>0</td>\n",
              "      <td>128 130 131 131 132 134 134 140 72 43 102 77 1...</td>\n",
              "    </tr>\n",
              "    <tr>\n",
              "      <th>6996</th>\n",
              "      <td>28</td>\n",
              "      <td>1</td>\n",
              "      <td>1</td>\n",
              "      <td>28 22 19 23 16 22 19 31 64 81 88 96 108 120 13...</td>\n",
              "    </tr>\n",
              "    <tr>\n",
              "      <th>6997</th>\n",
              "      <td>32</td>\n",
              "      <td>3</td>\n",
              "      <td>1</td>\n",
              "      <td>221 229 227 200 166 115 146 198 186 184 178 15...</td>\n",
              "    </tr>\n",
              "    <tr>\n",
              "      <th>6998</th>\n",
              "      <td>41</td>\n",
              "      <td>0</td>\n",
              "      <td>0</td>\n",
              "      <td>58 61 76 58 83 71 74 90 71 112 77 91 111 135 1...</td>\n",
              "    </tr>\n",
              "    <tr>\n",
              "      <th>6999</th>\n",
              "      <td>12</td>\n",
              "      <td>4</td>\n",
              "      <td>1</td>\n",
              "      <td>19 21 20 23 33 54 90 128 149 169 179 179 182 1...</td>\n",
              "    </tr>\n",
              "  </tbody>\n",
              "</table>\n",
              "<p>7000 rows × 4 columns</p>\n",
              "</div>\n",
              "    <div class=\"colab-df-buttons\">\n",
              "\n",
              "  <div class=\"colab-df-container\">\n",
              "    <button class=\"colab-df-convert\" onclick=\"convertToInteractive('df-9bd09626-3632-434f-abf1-c36457e299b5')\"\n",
              "            title=\"Convert this dataframe to an interactive table.\"\n",
              "            style=\"display:none;\">\n",
              "\n",
              "  <svg xmlns=\"http://www.w3.org/2000/svg\" height=\"24px\" viewBox=\"0 -960 960 960\">\n",
              "    <path d=\"M120-120v-720h720v720H120Zm60-500h600v-160H180v160Zm220 220h160v-160H400v160Zm0 220h160v-160H400v160ZM180-400h160v-160H180v160Zm440 0h160v-160H620v160ZM180-180h160v-160H180v160Zm440 0h160v-160H620v160Z\"/>\n",
              "  </svg>\n",
              "    </button>\n",
              "\n",
              "  <style>\n",
              "    .colab-df-container {\n",
              "      display:flex;\n",
              "      gap: 12px;\n",
              "    }\n",
              "\n",
              "    .colab-df-convert {\n",
              "      background-color: #E8F0FE;\n",
              "      border: none;\n",
              "      border-radius: 50%;\n",
              "      cursor: pointer;\n",
              "      display: none;\n",
              "      fill: #1967D2;\n",
              "      height: 32px;\n",
              "      padding: 0 0 0 0;\n",
              "      width: 32px;\n",
              "    }\n",
              "\n",
              "    .colab-df-convert:hover {\n",
              "      background-color: #E2EBFA;\n",
              "      box-shadow: 0px 1px 2px rgba(60, 64, 67, 0.3), 0px 1px 3px 1px rgba(60, 64, 67, 0.15);\n",
              "      fill: #174EA6;\n",
              "    }\n",
              "\n",
              "    .colab-df-buttons div {\n",
              "      margin-bottom: 4px;\n",
              "    }\n",
              "\n",
              "    [theme=dark] .colab-df-convert {\n",
              "      background-color: #3B4455;\n",
              "      fill: #D2E3FC;\n",
              "    }\n",
              "\n",
              "    [theme=dark] .colab-df-convert:hover {\n",
              "      background-color: #434B5C;\n",
              "      box-shadow: 0px 1px 3px 1px rgba(0, 0, 0, 0.15);\n",
              "      filter: drop-shadow(0px 1px 2px rgba(0, 0, 0, 0.3));\n",
              "      fill: #FFFFFF;\n",
              "    }\n",
              "  </style>\n",
              "\n",
              "    <script>\n",
              "      const buttonEl =\n",
              "        document.querySelector('#df-9bd09626-3632-434f-abf1-c36457e299b5 button.colab-df-convert');\n",
              "      buttonEl.style.display =\n",
              "        google.colab.kernel.accessAllowed ? 'block' : 'none';\n",
              "\n",
              "      async function convertToInteractive(key) {\n",
              "        const element = document.querySelector('#df-9bd09626-3632-434f-abf1-c36457e299b5');\n",
              "        const dataTable =\n",
              "          await google.colab.kernel.invokeFunction('convertToInteractive',\n",
              "                                                    [key], {});\n",
              "        if (!dataTable) return;\n",
              "\n",
              "        const docLinkHtml = 'Like what you see? Visit the ' +\n",
              "          '<a target=\"_blank\" href=https://colab.research.google.com/notebooks/data_table.ipynb>data table notebook</a>'\n",
              "          + ' to learn more about interactive tables.';\n",
              "        element.innerHTML = '';\n",
              "        dataTable['output_type'] = 'display_data';\n",
              "        await google.colab.output.renderOutput(dataTable, element);\n",
              "        const docLink = document.createElement('div');\n",
              "        docLink.innerHTML = docLinkHtml;\n",
              "        element.appendChild(docLink);\n",
              "      }\n",
              "    </script>\n",
              "  </div>\n",
              "\n",
              "\n",
              "<div id=\"df-51f2605a-afc5-483f-ad7c-c6115f4c72e4\">\n",
              "  <button class=\"colab-df-quickchart\" onclick=\"quickchart('df-51f2605a-afc5-483f-ad7c-c6115f4c72e4')\"\n",
              "            title=\"Suggest charts.\"\n",
              "            style=\"display:none;\">\n",
              "\n",
              "<svg xmlns=\"http://www.w3.org/2000/svg\" height=\"24px\"viewBox=\"0 0 24 24\"\n",
              "     width=\"24px\">\n",
              "    <g>\n",
              "        <path d=\"M19 3H5c-1.1 0-2 .9-2 2v14c0 1.1.9 2 2 2h14c1.1 0 2-.9 2-2V5c0-1.1-.9-2-2-2zM9 17H7v-7h2v7zm4 0h-2V7h2v10zm4 0h-2v-4h2v4z\"/>\n",
              "    </g>\n",
              "</svg>\n",
              "  </button>\n",
              "\n",
              "<style>\n",
              "  .colab-df-quickchart {\n",
              "      --bg-color: #E8F0FE;\n",
              "      --fill-color: #1967D2;\n",
              "      --hover-bg-color: #E2EBFA;\n",
              "      --hover-fill-color: #174EA6;\n",
              "      --disabled-fill-color: #AAA;\n",
              "      --disabled-bg-color: #DDD;\n",
              "  }\n",
              "\n",
              "  [theme=dark] .colab-df-quickchart {\n",
              "      --bg-color: #3B4455;\n",
              "      --fill-color: #D2E3FC;\n",
              "      --hover-bg-color: #434B5C;\n",
              "      --hover-fill-color: #FFFFFF;\n",
              "      --disabled-bg-color: #3B4455;\n",
              "      --disabled-fill-color: #666;\n",
              "  }\n",
              "\n",
              "  .colab-df-quickchart {\n",
              "    background-color: var(--bg-color);\n",
              "    border: none;\n",
              "    border-radius: 50%;\n",
              "    cursor: pointer;\n",
              "    display: none;\n",
              "    fill: var(--fill-color);\n",
              "    height: 32px;\n",
              "    padding: 0;\n",
              "    width: 32px;\n",
              "  }\n",
              "\n",
              "  .colab-df-quickchart:hover {\n",
              "    background-color: var(--hover-bg-color);\n",
              "    box-shadow: 0 1px 2px rgba(60, 64, 67, 0.3), 0 1px 3px 1px rgba(60, 64, 67, 0.15);\n",
              "    fill: var(--button-hover-fill-color);\n",
              "  }\n",
              "\n",
              "  .colab-df-quickchart-complete:disabled,\n",
              "  .colab-df-quickchart-complete:disabled:hover {\n",
              "    background-color: var(--disabled-bg-color);\n",
              "    fill: var(--disabled-fill-color);\n",
              "    box-shadow: none;\n",
              "  }\n",
              "\n",
              "  .colab-df-spinner {\n",
              "    border: 2px solid var(--fill-color);\n",
              "    border-color: transparent;\n",
              "    border-bottom-color: var(--fill-color);\n",
              "    animation:\n",
              "      spin 1s steps(1) infinite;\n",
              "  }\n",
              "\n",
              "  @keyframes spin {\n",
              "    0% {\n",
              "      border-color: transparent;\n",
              "      border-bottom-color: var(--fill-color);\n",
              "      border-left-color: var(--fill-color);\n",
              "    }\n",
              "    20% {\n",
              "      border-color: transparent;\n",
              "      border-left-color: var(--fill-color);\n",
              "      border-top-color: var(--fill-color);\n",
              "    }\n",
              "    30% {\n",
              "      border-color: transparent;\n",
              "      border-left-color: var(--fill-color);\n",
              "      border-top-color: var(--fill-color);\n",
              "      border-right-color: var(--fill-color);\n",
              "    }\n",
              "    40% {\n",
              "      border-color: transparent;\n",
              "      border-right-color: var(--fill-color);\n",
              "      border-top-color: var(--fill-color);\n",
              "    }\n",
              "    60% {\n",
              "      border-color: transparent;\n",
              "      border-right-color: var(--fill-color);\n",
              "    }\n",
              "    80% {\n",
              "      border-color: transparent;\n",
              "      border-right-color: var(--fill-color);\n",
              "      border-bottom-color: var(--fill-color);\n",
              "    }\n",
              "    90% {\n",
              "      border-color: transparent;\n",
              "      border-bottom-color: var(--fill-color);\n",
              "    }\n",
              "  }\n",
              "</style>\n",
              "\n",
              "  <script>\n",
              "    async function quickchart(key) {\n",
              "      const quickchartButtonEl =\n",
              "        document.querySelector('#' + key + ' button');\n",
              "      quickchartButtonEl.disabled = true;  // To prevent multiple clicks.\n",
              "      quickchartButtonEl.classList.add('colab-df-spinner');\n",
              "      try {\n",
              "        const charts = await google.colab.kernel.invokeFunction(\n",
              "            'suggestCharts', [key], {});\n",
              "      } catch (error) {\n",
              "        console.error('Error during call to suggestCharts:', error);\n",
              "      }\n",
              "      quickchartButtonEl.classList.remove('colab-df-spinner');\n",
              "      quickchartButtonEl.classList.add('colab-df-quickchart-complete');\n",
              "    }\n",
              "    (() => {\n",
              "      let quickchartButtonEl =\n",
              "        document.querySelector('#df-51f2605a-afc5-483f-ad7c-c6115f4c72e4 button');\n",
              "      quickchartButtonEl.style.display =\n",
              "        google.colab.kernel.accessAllowed ? 'block' : 'none';\n",
              "    })();\n",
              "  </script>\n",
              "</div>\n",
              "    </div>\n",
              "  </div>\n"
            ],
            "text/plain": [
              "      age  ethnicity  gender  \\\n",
              "0      49          1       1   \n",
              "1      39          1       0   \n",
              "2       8          4       0   \n",
              "3      40          4       0   \n",
              "4      27          0       0   \n",
              "...   ...        ...     ...   \n",
              "6995   49          3       0   \n",
              "6996   28          1       1   \n",
              "6997   32          3       1   \n",
              "6998   41          0       0   \n",
              "6999   12          4       1   \n",
              "\n",
              "                                                 pixels  \n",
              "0     31 32 28 27 34 38 37 40 47 51 52 57 72 93 118 ...  \n",
              "1     186 65 38 40 36 51 64 64 60 55 58 60 73 79 82 ...  \n",
              "2     20 23 35 34 45 65 69 72 79 92 106 115 134 148 ...  \n",
              "3     6 6 13 19 15 23 41 76 106 125 133 138 152 158 ...  \n",
              "4     31 31 29 51 98 136 162 175 176 178 178 179 184...  \n",
              "...                                                 ...  \n",
              "6995  128 130 131 131 132 134 134 140 72 43 102 77 1...  \n",
              "6996  28 22 19 23 16 22 19 31 64 81 88 96 108 120 13...  \n",
              "6997  221 229 227 200 166 115 146 198 186 184 178 15...  \n",
              "6998  58 61 76 58 83 71 74 90 71 112 77 91 111 135 1...  \n",
              "6999  19 21 20 23 33 54 90 128 149 169 179 179 182 1...  \n",
              "\n",
              "[7000 rows x 4 columns]"
            ]
          },
          "execution_count": 6,
          "metadata": {},
          "output_type": "execute_result"
        }
      ],
      "source": [
        "random_seed = 42\n",
        "df_sampled = df.sample(n=7000, random_state=random_seed)\n",
        "df_sampled.reset_index(drop=True, inplace=True)\n",
        "df_sampled"
      ]
    },
    {
      "cell_type": "markdown",
      "metadata": {
        "id": "PFZ8o68Jg2Ps"
      },
      "source": [
        "Let us take a look at an image. You will get an idea of how to process your data for your neural network."
      ]
    },
    {
      "cell_type": "markdown",
      "metadata": {
        "id": "eg-e0FwohgQC"
      },
      "source": [
        "The 4th column contains all the pixel values in a string for each image. Lets convert all the strings to arrays first."
      ]
    },
    {
      "cell_type": "code",
      "execution_count": 7,
      "metadata": {
        "id": "2-8cTv4PhqaJ"
      },
      "outputs": [],
      "source": [
        "def string_to_array(pixel_string):\n",
        "    pixel_list = pixel_string.split()\n",
        "    pixel_array = np.array([int(value) for value in pixel_list])\n",
        "    return pixel_array"
      ]
    },
    {
      "cell_type": "code",
      "execution_count": 8,
      "metadata": {
        "id": "JhS0ELt7bVSL"
      },
      "outputs": [],
      "source": [
        "df_sampled['pixels'] = df_sampled['pixels'].apply(string_to_array)"
      ]
    },
    {
      "cell_type": "code",
      "execution_count": 9,
      "metadata": {
        "colab": {
          "base_uri": "https://localhost:8080/"
        },
        "id": "cWoMBRYxbwDb",
        "outputId": "fdf21a3e-14ab-44d5-d67b-024ad37cbf33"
      },
      "outputs": [
        {
          "data": {
            "text/plain": [
              "0       [31, 32, 28, 27, 34, 38, 37, 40, 47, 51, 52, 5...\n",
              "1       [186, 65, 38, 40, 36, 51, 64, 64, 60, 55, 58, ...\n",
              "2       [20, 23, 35, 34, 45, 65, 69, 72, 79, 92, 106, ...\n",
              "3       [6, 6, 13, 19, 15, 23, 41, 76, 106, 125, 133, ...\n",
              "4       [31, 31, 29, 51, 98, 136, 162, 175, 176, 178, ...\n",
              "                              ...                        \n",
              "6995    [128, 130, 131, 131, 132, 134, 134, 140, 72, 4...\n",
              "6996    [28, 22, 19, 23, 16, 22, 19, 31, 64, 81, 88, 9...\n",
              "6997    [221, 229, 227, 200, 166, 115, 146, 198, 186, ...\n",
              "6998    [58, 61, 76, 58, 83, 71, 74, 90, 71, 112, 77, ...\n",
              "6999    [19, 21, 20, 23, 33, 54, 90, 128, 149, 169, 17...\n",
              "Name: pixels, Length: 7000, dtype: object"
            ]
          },
          "execution_count": 9,
          "metadata": {},
          "output_type": "execute_result"
        }
      ],
      "source": [
        "df_sampled['pixels']"
      ]
    },
    {
      "cell_type": "markdown",
      "metadata": {
        "id": "BhcEWMDbrZto"
      },
      "source": [
        "Our \"pixels\" column has been converted to arrays which we can now use as input features to our model"
      ]
    },
    {
      "cell_type": "markdown",
      "metadata": {
        "id": "lpBey7-Griwp"
      },
      "source": [
        "Lets show the first image of our dataset"
      ]
    },
    {
      "cell_type": "code",
      "execution_count": 10,
      "metadata": {
        "colab": {
          "base_uri": "https://localhost:8080/",
          "height": 500
        },
        "id": "yXEYMfj8etyN",
        "outputId": "6e14095a-1331-4425-d3bd-333e16949d05"
      },
      "outputs": [
        {
          "name": "stdout",
          "output_type": "stream",
          "text": [
            "Age: 28\n",
            "Ethnicity: 3\n",
            "Gender: 0\n"
          ]
        },
        {
          "data": {
            "text/plain": [
              "<matplotlib.image.AxesImage at 0x7b4913a00d30>"
            ]
          },
          "execution_count": 10,
          "metadata": {},
          "output_type": "execute_result"
        },
        {
          "data": {
            "image/png": "[encoded data removed]",
            "text/plain": [
              "<Figure size 640x480 with 1 Axes>"
            ]
          },
          "metadata": {},
          "output_type": "display_data"
        }
      ],
      "source": [
        "index = 30\n",
        "first_image = df_sampled['pixels'][index]\n",
        "image = first_image.reshape((48,48))\n",
        "print(\"Age: \"+str(df_sampled[\"age\"][index])+\"\\nEthnicity: \"+str(df_sampled[\"ethnicity\"][index])+ \"\\nGender: \"+str(df_sampled[\"gender\"][index]))\n",
        "plt.imshow(image,cmap=\"gray\")"
      ]
    },
    {
      "cell_type": "markdown",
      "metadata": {
        "id": "x7DZZ8VZrRJR"
      },
      "source": [
        "Uptill now, an initial processing has already been done using pandas in this starter code jupyter notebook. Hence you have a data frame ready for your assignment.\n",
        "\n",
        "Please use the dataframe \"df_sampled\".\n",
        "\n",
        "# You should consult the Lab 4 document provided to you for the tasks that are needed to be done for the successful completion. Grading rubricks are also mentioned in detail there.\n",
        "\n"
      ]
    },
    {
      "cell_type": "code",
      "execution_count": 11,
      "metadata": {
        "id": "Va1Ks8tWBVWV"
      },
      "outputs": [],
      "source": [
        "# Write any further imports you need here\n",
        "from sklearn.model_selection import train_test_split\n",
        "import torchvision.transforms as transforms\n",
        "import tensorflow as tf\n",
        "from tensorflow import keras\n",
        "from tensorflow.keras import layers\n",
        "import matplotlib.pyplot as plt\n",
        "from sklearn.metrics import confusion_matrix\n",
        "import seaborn as sns"
      ]
    },
    {
      "cell_type": "markdown",
      "metadata": {
        "id": "c6v4uRZdKk8g"
      },
      "source": [
        "# Dataset Creation"
      ]
    },
    {
      "cell_type": "markdown",
      "metadata": {
        "id": "_qOVBvFbfFuH"
      },
      "source": [
        "Drop the age and gender"
      ]
    },
    {
      "cell_type": "code",
      "execution_count": 12,
      "metadata": {
        "colab": {
          "base_uri": "https://localhost:8080/"
        },
        "id": "Zr0zcTPXfwa8",
        "outputId": "60c8cc32-dedb-4e02-ceed-f315ba7b5d20"
      },
      "outputs": [
        {
          "name": "stdout",
          "output_type": "stream",
          "text": [
            "Shape of Input (7000, 1)\n",
            "Shape of Output (7000,)\n"
          ]
        }
      ],
      "source": [
        "target = df_sampled[\"ethnicity\"]\n",
        "input = df_sampled.drop(columns=[\"ethnicity\",\"age\",\"gender\"])\n",
        "print(\"Shape of Input\", input.shape)\n",
        "print(\"Shape of Output\",target.shape)"
      ]
    },
    {
      "cell_type": "markdown",
      "metadata": {
        "id": "UP5Zf57XiZQ6"
      },
      "source": [
        "Convert pixels to numpy"
      ]
    },
    {
      "cell_type": "code",
      "execution_count": 14,
      "metadata": {
        "id": "M543UqB1iUBA"
      },
      "outputs": [],
      "source": [
        "# Convert the 'pixels' column to NumPy arrays\n",
        "X = np.array(input['pixels'].tolist())\n",
        "\n",
        "# Convert the 'ethnicity' column to NumPy arrays\n",
        "y = np.array(target)"
      ]
    },
    {
      "cell_type": "markdown",
      "metadata": {
        "id": "-Rx08X1Ui0tt"
      },
      "source": [
        "Normalize the pixels colunm"
      ]
    },
    {
      "cell_type": "code",
      "execution_count": 15,
      "metadata": {
        "id": "qp6Rx8Rvi3tY"
      },
      "outputs": [],
      "source": [
        "X = X / 255.0"
      ]
    },
    {
      "cell_type": "markdown",
      "metadata": {
        "id": "sjvZFC7INRj_"
      },
      "source": [
        "# Data Splitting"
      ]
    },
    {
      "cell_type": "markdown",
      "metadata": {
        "id": "QhqNeA15Nwz0"
      },
      "source": [
        "Split into train and test_and_validation"
      ]
    },
    {
      "cell_type": "code",
      "execution_count": 16,
      "metadata": {
        "id": "YEIRSrg0Nbha"
      },
      "outputs": [],
      "source": [
        "X_train, X_val_test, y_train, y_val_test = train_test_split(\n",
        " X, y, test_size=0.3, random_state=42)"
      ]
    },
    {
      "cell_type": "markdown",
      "metadata": {
        "id": "70lfpEi5OK3t"
      },
      "source": [
        "Splitting test_and_validation into test and validation sets"
      ]
    },
    {
      "cell_type": "code",
      "execution_count": 17,
      "metadata": {
        "id": "n0LmZlMUOS_B"
      },
      "outputs": [],
      "source": [
        "X_val, X_test, y_val, y_test = train_test_split(\n",
        " X_val_test, y_val_test, test_size=0.5, random_state=42)"
      ]
    },
    {
      "cell_type": "code",
      "execution_count": 18,
      "metadata": {
        "colab": {
          "base_uri": "https://localhost:8080/"
        },
        "id": "H2vnP2KZOnQc",
        "outputId": "afd02ff8-cd71-4fec-fe05-e6de571e4183"
      },
      "outputs": [
        {
          "name": "stdout",
          "output_type": "stream",
          "text": [
            "Shape of Training Data (4900, 2304) (4900,)\n",
            "Shape of Validation Data (1050, 2304) (1050,)\n",
            "Shape of Testing Data (1050, 2304) (1050,)\n"
          ]
        }
      ],
      "source": [
        "print(\"Shape of Training Data\",X_train.shape,y_train.shape)\n",
        "print(\"Shape of Validation Data\",X_val.shape,y_val.shape)\n",
        "print(\"Shape of Testing Data\",X_test.shape,y_test.shape)"
      ]
    },
    {
      "cell_type": "markdown",
      "metadata": {
        "id": "VHm7kFlij0yx"
      },
      "source": [
        "# Part 2: Building a Fully Connected Neural Network"
      ]
    },
    {
      "cell_type": "markdown",
      "metadata": {
        "id": "p03D11zxkCYK"
      },
      "source": [
        "### Neural Network Architecture"
      ]
    },
    {
      "cell_type": "markdown",
      "metadata": {
        "id": "OOun1sXiZg2U"
      },
      "source": [
        "Create and compile model"
      ]
    },
    {
      "cell_type": "code",
      "execution_count": 27,
      "metadata": {
        "id": "vJrON-CzXOHG"
      },
      "outputs": [],
      "source": [
        "def ethnicity_classifier():\n",
        "    model = keras.Sequential([\n",
        "        layers.Input(shape=(2304,)),  # Input layer with 2304 neurons\n",
        "        layers.Dense(256, activation='relu'),  # Hidden layer with 256 neurons and ReLU activation\n",
        "        layers.Dense(512, activation='relu'),   # Hidden layer with 512 neurons and ReLU activation\n",
        "        layers.Dropout(0.1),\n",
        "        layers.Dense(512, activation='relu'),   # Hidden layer with 512 neurons and ReLU activation\n",
        "        layers.Dense(5, activation='softmax')  # Output layer with 5 neurons (one for each class) and softmax activation\n",
        "    ])\n",
        "    return model\n",
        "# Function to compile the model\n",
        "def compile_model(model):\n",
        "    model.compile(optimizer='adam', loss='sparse_categorical_crossentropy', metrics=['accuracy'])\n",
        "    # Print the model summary\n",
        "    model.summary()\n"
      ]
    },
    {
      "cell_type": "markdown",
      "metadata": {
        "id": "SUUlATn7keKg"
      },
      "source": [
        "###Model Training"
      ]
    },
    {
      "cell_type": "code",
      "execution_count": 28,
      "metadata": {
        "id": "M4yo9Onzkv8K"
      },
      "outputs": [],
      "source": [
        "# Training model\n",
        "def train_model(model, X_train, y_train, X_val, y_val, epochs=25, batch_size=32):\n",
        "    history = model.fit(X_train, y_train, epochs=epochs, batch_size=batch_size, validation_data=(X_val, y_val))\n",
        "    return history"
      ]
    },
    {
      "cell_type": "code",
      "execution_count": 29,
      "metadata": {
        "id": "qQRN8i_raTYg"
      },
      "outputs": [],
      "source": [
        "# Function to plot accuracy and loss curves\n",
        "def plot_curves(history):\n",
        "    plt.figure(figsize=(12, 5))\n",
        "\n",
        "    # Plot accuracy vs. epochs\n",
        "    plt.subplot(1, 2, 1)\n",
        "    plt.plot(history.history['accuracy'], label='Training Accuracy')\n",
        "    plt.plot(history.history['val_accuracy'], label='Validation Accuracy')\n",
        "    plt.title('Accuracy vs. Epochs')\n",
        "    plt.xlabel('Epochs')\n",
        "    plt.ylabel('Accuracy')\n",
        "    plt.legend()\n",
        "\n",
        "    # Plot loss vs. epochs\n",
        "    plt.subplot(1, 2, 2)\n",
        "    plt.plot(history.history['loss'], label='Training Loss')\n",
        "    plt.plot(history.history['val_loss'], label='Validation Loss')\n",
        "    plt.title('Loss vs. Epochs')\n",
        "    plt.xlabel('Epochs')\n",
        "    plt.ylabel('Loss')\n",
        "    plt.legend()\n",
        "\n",
        "    plt.tight_layout()\n",
        "    plt.show()"
      ]
    },
    {
      "cell_type": "code",
      "execution_count": 22,
      "metadata": {
        "id": "VQ2HiI2vaZyF"
      },
      "outputs": [],
      "source": [
        "# Function to evaluate the model on test data\n",
        "def evaluate_model(model, X_test, y_test):\n",
        "    test_loss, test_accuracy = model.evaluate(X_test, y_test)\n",
        "    return test_loss, test_accuracy"
      ]
    },
    {
      "cell_type": "markdown",
      "metadata": {
        "id": "8xjvx8WMabSd"
      },
      "source": [
        "Creating and compiling the model"
      ]
    },
    {
      "cell_type": "code",
      "execution_count": 30,
      "metadata": {
        "colab": {
          "base_uri": "https://localhost:8080/"
        },
        "id": "jjNTPwOxafFE",
        "outputId": "26f565e6-350d-4579-92db-72e9110fea47"
      },
      "outputs": [
        {
          "name": "stdout",
          "output_type": "stream",
          "text": [
            "Model: \"sequential_1\"\n",
            "_________________________________________________________________\n",
            " Layer (type)                Output Shape              Param #   \n",
            "=================================================================\n",
            " dense_4 (Dense)             (None, 256)               590080    \n",
            "                                                                 \n",
            " dense_5 (Dense)             (None, 512)               131584    \n",
            "                                                                 \n",
            " dropout_1 (Dropout)         (None, 512)               0         \n",
            "                                                                 \n",
            " dense_6 (Dense)             (None, 512)               262656    \n",
            "                                                                 \n",
            " dense_7 (Dense)             (None, 5)                 2565      \n",
            "                                                                 \n",
            "=================================================================\n",
            "Total params: 986885 (3.76 MB)\n",
            "Trainable params: 986885 (3.76 MB)\n",
            "Non-trainable params: 0 (0.00 Byte)\n",
            "_________________________________________________________________\n"
          ]
        }
      ],
      "source": [
        "# Create and compile the model\n",
        "model = ethnicity_classifier()\n",
        "compile_model(model)"
      ]
    },
    {
      "cell_type": "markdown",
      "metadata": {
        "id": "AxrArdC5a5pL"
      },
      "source": [
        "Training the model"
      ]
    },
    {
      "cell_type": "code",
      "execution_count": 31,
      "metadata": {
        "colab": {
          "base_uri": "https://localhost:8080/"
        },
        "id": "nuwfJ-7Ba70D",
        "outputId": "33b823d0-4c5b-41d0-d402-d5196f04fa2b"
      },
      "outputs": [
        {
          "name": "stdout",
          "output_type": "stream",
          "text": [
            "Epoch 1/25\n",
            "154/154 [==============================] - 2s 5ms/step - loss: 1.3872 - accuracy: 0.4547 - val_loss: 1.2847 - val_accuracy: 0.5267\n",
            "Epoch 2/25\n",
            "154/154 [==============================] - 1s 5ms/step - loss: 1.2485 - accuracy: 0.5186 - val_loss: 1.2365 - val_accuracy: 0.5571\n",
            "Epoch 3/25\n",
            "154/154 [==============================] - 1s 4ms/step - loss: 1.1065 - accuracy: 0.5812 - val_loss: 1.1331 - val_accuracy: 0.5819\n",
            "Epoch 4/25\n",
            "154/154 [==============================] - 1s 4ms/step - loss: 1.0421 - accuracy: 0.6184 - val_loss: 1.0186 - val_accuracy: 0.6219\n",
            "Epoch 5/25\n",
            "154/154 [==============================] - 1s 4ms/step - loss: 1.0304 - accuracy: 0.6198 - val_loss: 1.0950 - val_accuracy: 0.6010\n",
            "Epoch 6/25\n",
            "154/154 [==============================] - 1s 5ms/step - loss: 0.9875 - accuracy: 0.6369 - val_loss: 0.9439 - val_accuracy: 0.6676\n",
            "Epoch 7/25\n",
            "154/154 [==============================] - 1s 6ms/step - loss: 0.9538 - accuracy: 0.6594 - val_loss: 0.9852 - val_accuracy: 0.6333\n",
            "Epoch 8/25\n",
            "154/154 [==============================] - 1s 6ms/step - loss: 0.9256 - accuracy: 0.6688 - val_loss: 0.9081 - val_accuracy: 0.6781\n",
            "Epoch 9/25\n",
            "154/154 [==============================] - 1s 5ms/step - loss: 0.8913 - accuracy: 0.6755 - val_loss: 0.8697 - val_accuracy: 0.6905\n",
            "Epoch 10/25\n",
            "154/154 [==============================] - 1s 4ms/step - loss: 0.8771 - accuracy: 0.6822 - val_loss: 0.8609 - val_accuracy: 0.6886\n",
            "Epoch 11/25\n",
            "154/154 [==============================] - 1s 4ms/step - loss: 0.8835 - accuracy: 0.6796 - val_loss: 1.0659 - val_accuracy: 0.6448\n",
            "Epoch 12/25\n",
            "154/154 [==============================] - 1s 4ms/step - loss: 0.9102 - accuracy: 0.6663 - val_loss: 0.8694 - val_accuracy: 0.6962\n",
            "Epoch 13/25\n",
            "154/154 [==============================] - 1s 4ms/step - loss: 0.8791 - accuracy: 0.6833 - val_loss: 0.9079 - val_accuracy: 0.7000\n",
            "Epoch 14/25\n",
            "154/154 [==============================] - 1s 4ms/step - loss: 0.8505 - accuracy: 0.6914 - val_loss: 1.0182 - val_accuracy: 0.6200\n",
            "Epoch 15/25\n",
            "154/154 [==============================] - 1s 4ms/step - loss: 0.8430 - accuracy: 0.6953 - val_loss: 0.8588 - val_accuracy: 0.7019\n",
            "Epoch 16/25\n",
            "154/154 [==============================] - 1s 4ms/step - loss: 0.8487 - accuracy: 0.6898 - val_loss: 0.8485 - val_accuracy: 0.6981\n",
            "Epoch 17/25\n",
            "154/154 [==============================] - 1s 5ms/step - loss: 0.8506 - accuracy: 0.6920 - val_loss: 0.9513 - val_accuracy: 0.6543\n",
            "Epoch 18/25\n",
            "154/154 [==============================] - 1s 4ms/step - loss: 0.8322 - accuracy: 0.6988 - val_loss: 0.8856 - val_accuracy: 0.6781\n",
            "Epoch 19/25\n",
            "154/154 [==============================] - 1s 4ms/step - loss: 0.8104 - accuracy: 0.7076 - val_loss: 0.8562 - val_accuracy: 0.6924\n",
            "Epoch 20/25\n",
            "154/154 [==============================] - 1s 4ms/step - loss: 0.8002 - accuracy: 0.7073 - val_loss: 0.9831 - val_accuracy: 0.6771\n",
            "Epoch 21/25\n",
            "154/154 [==============================] - 1s 4ms/step - loss: 0.8188 - accuracy: 0.7053 - val_loss: 0.9978 - val_accuracy: 0.6267\n",
            "Epoch 22/25\n",
            "154/154 [==============================] - 1s 4ms/step - loss: 0.8000 - accuracy: 0.7118 - val_loss: 0.9335 - val_accuracy: 0.6895\n",
            "Epoch 23/25\n",
            "154/154 [==============================] - 1s 5ms/step - loss: 0.8015 - accuracy: 0.7106 - val_loss: 0.8300 - val_accuracy: 0.7057\n",
            "Epoch 24/25\n",
            "154/154 [==============================] - 1s 4ms/step - loss: 0.7994 - accuracy: 0.7116 - val_loss: 0.8733 - val_accuracy: 0.6962\n",
            "Epoch 25/25\n",
            "154/154 [==============================] - 1s 6ms/step - loss: 0.7584 - accuracy: 0.7263 - val_loss: 0.9339 - val_accuracy: 0.6895\n"
          ]
        }
      ],
      "source": [
        "history = train_model(model, X_train, y_train, X_val, y_val, epochs=25, batch_size=32)"
      ]
    },
    {
      "cell_type": "markdown",
      "metadata": {
        "id": "QAAoE-gtbYSd"
      },
      "source": [
        "### Performance Evaluation"
      ]
    },
    {
      "cell_type": "code",
      "execution_count": 32,
      "metadata": {
        "colab": {
          "base_uri": "https://localhost:8080/",
          "height": 507
        },
        "id": "jhjDCrOfbbnu",
        "outputId": "6fa873a1-3164-4c03-8af7-021a50a7ad24"
      },
      "outputs": [
        {
          "data": {
            "image/png": "[encoded data removed]",
            "text/plain": [
              "<Figure size 1200x500 with 2 Axes>"
            ]
          },
          "metadata": {},
          "output_type": "display_data"
        }
      ],
      "source": [
        "plot_curves(history)"
      ]
    },
    {
      "cell_type": "markdown",
      "metadata": {
        "id": "j_bH9eT_bMWo"
      },
      "source": [
        "# Part 3: Evaluation"
      ]
    },
    {
      "cell_type": "markdown",
      "metadata": {
        "id": "nz9V0RKjdY5Z"
      },
      "source": [
        "Test Loss and Test Accuracy"
      ]
    },
    {
      "cell_type": "code",
      "execution_count": 33,
      "metadata": {
        "colab": {
          "base_uri": "https://localhost:8080/"
        },
        "id": "IXSCBejNDkO3",
        "outputId": "48c20d7c-5d5a-4aac-f38e-806ca971056f"
      },
      "outputs": [
        {
          "name": "stdout",
          "output_type": "stream",
          "text": [
            "33/33 [==============================] - 0s 2ms/step - loss: 0.9278 - accuracy: 0.6895\n",
            "Test Loss: 0.9278, Test Accuracy: 0.6895\n"
          ]
        }
      ],
      "source": [
        "test_loss, test_accuracy = evaluate_model(model, X_test, y_test)\n",
        "print(f\"Test Loss: {test_loss:.4f}, Test Accuracy: {test_accuracy:.4f}\")"
      ]
    },
    {
      "cell_type": "markdown",
      "metadata": {
        "id": "i7tzi01bddAr"
      },
      "source": [
        "Function for Confusion Matrix"
      ]
    },
    {
      "cell_type": "code",
      "execution_count": 36,
      "metadata": {
        "id": "C9CDfckndfZl"
      },
      "outputs": [],
      "source": [
        "def plot_confusion_matrix(model, X_test, y_test):\n",
        "    y_pred = model.predict(X_test)\n",
        "    y_pred_classes = np.argmax(y_pred, axis=1)\n",
        "    cm = confusion_matrix(y_test, y_pred_classes)\n",
        "    plt.figure(figsize=(8, 6))\n",
        "    sns.heatmap(cm, annot=True, fmt=\"d\", cmap=\"Blues\",\n",
        "                xticklabels=[\"White\", \"Black\", \"Asian\", \"Indian\", \"Others\"],\n",
        "                yticklabels=[\"White\", \"Black\", \"Asian\", \"Indian\", \"Others\"])\n",
        "    plt.xlabel('Predicted')\n",
        "    plt.ylabel('True')\n",
        "    plt.title('Confusion Matrix')\n",
        "    plt.show()"
      ]
    },
    {
      "cell_type": "markdown",
      "metadata": {
        "id": "oR5NJQOWdvHQ"
      },
      "source": [
        "Plotting matrix"
      ]
    },
    {
      "cell_type": "code",
      "execution_count": 37,
      "metadata": {
        "colab": {
          "base_uri": "https://localhost:8080/",
          "height": 581
        },
        "id": "UjFZds6Odulv",
        "outputId": "b6cd0432-204a-4459-f568-87394eb547fc"
      },
      "outputs": [
        {
          "name": "stdout",
          "output_type": "stream",
          "text": [
            "33/33 [==============================] - 0s 2ms/step\n"
          ]
        },
        {
          "data": {
            "image/png": "[encoded data removed]",
            "text/plain": [
              "<Figure size 800x600 with 2 Axes>"
            ]
          },
          "metadata": {},
          "output_type": "display_data"
        }
      ],
      "source": [
        "plot_confusion_matrix(model, X_test, y_test)"
      ]
    }
  ],
  "metadata": {
    "colab": {
      "provenance": []
    },
    "kernelspec": {
      "display_name": "Python 3",
      "name": "python3"
    },
    "language_info": {
      "name": "python"
    }
  },
  "nbformat": 4,
  "nbformat_minor": 0
}
